{
 "cells": [
  {
   "cell_type": "code",
   "execution_count": 1,
   "metadata": {},
   "outputs": [],
   "source": [
    "import os"
   ]
  },
  {
   "cell_type": "code",
   "execution_count": 4,
   "metadata": {},
   "outputs": [
    {
     "name": "stdout",
     "output_type": "stream",
     "text": [
      "['data_3d_semantics/train/2013_05_28_drive_0000_sync/static/0000000372_0000000610.ply', 'data_3d_semantics/train/2013_05_28_drive_0000_sync/static/0000000599_0000000846.ply', 'data_3d_semantics/train/2013_05_28_drive_0000_sync/static/0000000834_0000001286.ply', 'data_3d_semantics/train/2013_05_28_drive_0000_sync/static/0000001270_0000001549.ply', 'data_3d_semantics/train/2013_05_28_drive_0000_sync/static/0000001537_0000001755.ply', 'data_3d_semantics/train/2013_05_28_drive_0000_sync/static/0000001740_0000001991.ply', 'data_3d_semantics/train/2013_05_28_drive_0000_sync/static/0000002695_0000002925.ply', 'data_3d_semantics/train/2013_05_28_drive_0000_sync/static/0000003221_0000003475.ply', 'data_3d_semantics/train/2013_05_28_drive_0000_sync/static/0000003463_0000003724.ply', 'data_3d_semantics/train/2013_05_28_drive_0000_sync/static/0000003711_0000003928.ply', 'data_3d_semantics/train/2013_05_28_drive_0002_sync/static/0000004391_0000004625.ply', 'data_3d_semantics/train/2013_05_28_drive_0002_sync/static/0000004613_0000004846.ply', 'data_3d_semantics/train/2013_05_28_drive_0002_sync/static/0000004835_0000005136.ply', 'data_3d_semantics/train/2013_05_28_drive_0002_sync/static/0000005125_0000005328.ply', 'data_3d_semantics/train/2013_05_28_drive_0002_sync/static/0000005317_0000005517.ply', 'data_3d_semantics/train/2013_05_28_drive_0002_sync/static/0000005506_0000005858.ply', 'data_3d_semantics/train/2013_05_28_drive_0002_sync/static/0000005847_0000006086.ply', 'data_3d_semantics/train/2013_05_28_drive_0002_sync/static/0000006069_0000006398.ply', 'data_3d_semantics/train/2013_05_28_drive_0002_sync/static/0000015189_0000015407.ply', 'data_3d_semantics/train/2013_05_28_drive_0003_sync/static/0000000002_0000000282.ply', 'data_3d_semantics/train/2013_05_28_drive_0004_sync/static/0000002897_0000003118.ply', 'data_3d_semantics/train/2013_05_28_drive_0004_sync/static/0000003107_0000003367.ply', 'data_3d_semantics/train/2013_05_28_drive_0004_sync/static/0000003356_0000003586.ply', 'data_3d_semantics/train/2013_05_28_drive_0004_sync/static/0000003570_0000003975.ply', 'data_3d_semantics/train/2013_05_28_drive_0004_sync/static/0000004370_0000004726.ply', 'data_3d_semantics/train/2013_05_28_drive_0004_sync/static/0000004708_0000004929.ply', 'data_3d_semantics/train/2013_05_28_drive_0005_sync/static/0000004771_0000005011.ply', 'data_3d_semantics/train/2013_05_28_drive_0005_sync/static/0000004998_0000005335.ply', 'data_3d_semantics/train/2013_05_28_drive_0005_sync/static/0000005324_0000005591.ply', 'data_3d_semantics/train/2013_05_28_drive_0005_sync/static/0000005579_0000005788.ply', 'data_3d_semantics/train/2013_05_28_drive_0005_sync/static/0000005777_0000006097.ply', 'data_3d_semantics/train/2013_05_28_drive_0005_sync/static/0000006086_0000006307.ply', 'data_3d_semantics/train/2013_05_28_drive_0006_sync/static/0000000002_0000000403.ply', 'data_3d_semantics/train/2013_05_28_drive_0006_sync/static/0000000387_0000000772.ply', 'data_3d_semantics/train/2013_05_28_drive_0006_sync/static/0000000754_0000001010.ply', 'data_3d_semantics/train/2013_05_28_drive_0006_sync/static/0000001000_0000001219.ply', 'data_3d_semantics/train/2013_05_28_drive_0006_sync/static/0000002280_0000002615.ply', 'data_3d_semantics/train/2013_05_28_drive_0006_sync/static/0000002511_0000002810.ply', 'data_3d_semantics/train/2013_05_28_drive_0006_sync/static/0000009213_0000009393.ply', 'data_3d_semantics/train/2013_05_28_drive_0006_sync/static/0000009383_0000009570.ply', 'data_3d_semantics/train/2013_05_28_drive_0007_sync/static/0000000002_0000000125.ply', 'data_3d_semantics/train/2013_05_28_drive_0007_sync/static/0000000119_0000000213.ply', 'data_3d_semantics/train/2013_05_28_drive_0007_sync/static/0000000208_0000000298.ply', 'data_3d_semantics/train/2013_05_28_drive_0007_sync/static/0000000293_0000000383.ply', 'data_3d_semantics/train/2013_05_28_drive_0007_sync/static/0000000378_0000000466.ply', 'data_3d_semantics/train/2013_05_28_drive_0007_sync/static/0000000461_0000000547.ply', 'data_3d_semantics/train/2013_05_28_drive_0009_sync/static/0000000778_0000001026.ply', 'data_3d_semantics/train/2013_05_28_drive_0009_sync/static/0000001005_0000001244.ply', 'data_3d_semantics/train/2013_05_28_drive_0009_sync/static/0000001234_0000001393.ply', 'data_3d_semantics/train/2013_05_28_drive_0009_sync/static/0000004475_0000004916.ply', 'data_3d_semantics/train/2013_05_28_drive_0009_sync/static/0000005156_0000005440.ply', 'data_3d_semantics/train/2013_05_28_drive_0009_sync/static/0000005422_0000005732.ply', 'data_3d_semantics/train/2013_05_28_drive_0009_sync/static/0000006272_0000006526.ply', 'data_3d_semantics/train/2013_05_28_drive_0009_sync/static/0000012398_0000012693.ply', 'data_3d_semantics/train/2013_05_28_drive_0009_sync/static/0000013370_0000013582.ply', 'data_3d_semantics/train/2013_05_28_drive_0009_sync/static/0000013575_0000013709.ply', 'data_3d_semantics/train/2013_05_28_drive_0009_sync/static/0000013701_0000013838.ply', 'data_3d_semantics/train/2013_05_28_drive_0010_sync/static/0000001872_0000002033.ply', 'data_3d_semantics/train/2013_05_28_drive_0010_sync/static/0000002024_0000002177.ply', 'data_3d_semantics/train/2013_05_28_drive_0010_sync/static/0000002168_0000002765.ply', 'data_3d_semantics/train/2013_05_28_drive_0010_sync/static/0000002756_0000002920.ply']\n"
     ]
    }
   ],
   "source": [
    "split = 'val'\n",
    "kitti360Path = \"/data/shared_workspace/yuzijian/ws/ISeg3D/data/kitti360/unzip\"\n",
    "outputPath = os.path.join(\"/data/shared_workspace/yuzijian/ws/ISeg3D/data/kitti360/preprocess\", split)\n",
    "os.makedirs(outputPath, exist_ok=True)\n",
    "with open(os.path.join(kitti360Path, 'data_3d_semantics', 'train', f'2013_05_28_drive_{split}.txt'), 'r') as f:\n",
    "    files = f.read().split()\n",
    "\n",
    "print(files)"
   ]
  },
  {
   "cell_type": "code",
   "execution_count": 15,
   "metadata": {},
   "outputs": [
    {
     "data": {
      "text/plain": [
       "'2013_05_28_drive_0000_sync'"
      ]
     },
     "execution_count": 15,
     "metadata": {},
     "output_type": "execute_result"
    }
   ],
   "source": [
    "os.path.dirname(files[0]).split('/')[-2]"
   ]
  },
  {
   "cell_type": "code",
   "execution_count": 10,
   "metadata": {},
   "outputs": [
    {
     "data": {
      "text/plain": [
       "'0000000372_0000000610'"
      ]
     },
     "execution_count": 10,
     "metadata": {},
     "output_type": "execute_result"
    }
   ],
   "source": [
    "os.path.basename(files[0]).split('.')[0]"
   ]
  },
  {
   "cell_type": "code",
   "execution_count": 20,
   "metadata": {},
   "outputs": [],
   "source": [
    "import plyfile\n",
    "import numpy as np\n",
    "import glob\n",
    "from helpers.ply import read_ply"
   ]
  },
  {
   "cell_type": "code",
   "execution_count": 17,
   "metadata": {},
   "outputs": [
    {
     "data": {
      "text/plain": [
       "'/data/shared_workspace/yuzijian/ws/ISeg3D/data/kitti360/unzip/data_3d_semantics/test/2013_05_28_drive_0018_sync/static/0000003215_0000003513.ply'"
      ]
     },
     "execution_count": 17,
     "metadata": {},
     "output_type": "execute_result"
    }
   ],
   "source": [
    "files = glob.glob(os.path.join(\"/data/shared_workspace/yuzijian/ws/ISeg3D/data/kitti360/unzip/data_3d_semantics/test\", '*', 'static', '*.ply'))\n",
    "data_path = files[0]\n",
    "data_path"
   ]
  },
  {
   "cell_type": "code",
   "execution_count": 18,
   "metadata": {},
   "outputs": [
    {
     "data": {
      "text/plain": [
       "array([[3638.0806, 1560.1779,  128.895 ],\n",
       "       [3643.0215, 1551.145 ,  131.0147],\n",
       "       [3643.051 , 1551.2428,  131.0168],\n",
       "       ...,\n",
       "       [3637.3652, 1562.2391,  130.6731],\n",
       "       [3637.3164, 1562.336 ,  130.7374],\n",
       "       [3637.1965, 1562.5867,  130.8099]], dtype=float32)"
      ]
     },
     "execution_count": 18,
     "metadata": {},
     "output_type": "execute_result"
    }
   ],
   "source": [
    "f = plyfile.PlyData().read(data_path)\n",
    "points = np.array([list(x) for x in f.elements[0]])\n",
    "coords = np.ascontiguousarray(points[:, :3])\n",
    "colors = np.ascontiguousarray(points[:, 3:6])\n",
    "coords"
   ]
  },
  {
   "cell_type": "code",
   "execution_count": 26,
   "metadata": {},
   "outputs": [
    {
     "data": {
      "text/plain": [
       "array([[3638.0806, 1560.1779,  128.895 ],\n",
       "       [3643.0215, 1551.145 ,  131.0147],\n",
       "       [3643.051 , 1551.2428,  131.0168],\n",
       "       ...,\n",
       "       [3637.3652, 1562.2391,  130.6731],\n",
       "       [3637.3164, 1562.336 ,  130.7374],\n",
       "       [3637.1965, 1562.5867,  130.8099]], dtype=float32)"
      ]
     },
     "execution_count": 26,
     "metadata": {},
     "output_type": "execute_result"
    }
   ],
   "source": [
    "data = read_ply(data_path)\n",
    "points = np.vstack((data['x'], data['y'], data['z'])).T\n",
    "colors = np.vstack((data['red'], data['green'], data['blue'])).T\n",
    "colors = colors.astype(np.float32)\n",
    "points"
   ]
  },
  {
   "cell_type": "code",
   "execution_count": 28,
   "metadata": {},
   "outputs": [
    {
     "data": {
      "text/plain": [
       "{'semantic': array([8, 8, 8, ..., 8, 8, 8], dtype=int32),\n",
       " 'coord': array([[1000.8657, 3820.2976,  116.2225],\n",
       "        [1000.8753, 3820.3816,  116.193 ],\n",
       "        [1000.9065, 3820.6013,  116.188 ],\n",
       "        ...,\n",
       "        [1001.1812, 3820.5242,  117.0209],\n",
       "        [1001.1264, 3820.5708,  117.1629],\n",
       "        [1001.1545, 3820.547 ,  117.3406]], dtype=float32),\n",
       " 'color': array([[18., 29., 18.],\n",
       "        [19., 21., 19.],\n",
       "        [12., 14., 11.],\n",
       "        ...,\n",
       "        [13., 17., 14.],\n",
       "        [12., 14., 12.],\n",
       "        [19., 17., 17.]], dtype=float32),\n",
       " 'instance': array([-1, -1, -1, ..., -1, -1, -1], dtype=int32)}"
      ]
     },
     "execution_count": 28,
     "metadata": {},
     "output_type": "execute_result"
    }
   ],
   "source": [
    "data_path = \"/data/shared_workspace/yuzijian/ws/ISeg3D/data/kitti360/train/2013_05_28_drive_0000_sync/0000000002_0000000385\"\n",
    "data_dict = {}\n",
    "assets = os.listdir(data_path)\n",
    "for asset in assets:\n",
    "    if not asset.endswith(\".npy\"):\n",
    "        continue\n",
    "\n",
    "    data_dict[asset[:-4]] = np.load(os.path.join(data_path, asset))\n",
    "data_dict"
   ]
  },
  {
   "cell_type": "code",
   "execution_count": 30,
   "metadata": {},
   "outputs": [
    {
     "data": {
      "text/plain": [
       "array([-1,  0,  1,  2,  3,  4,  5,  6,  7,  8,  9, 10, 11, 12, 13, 14, 15,\n",
       "       16, 17, 18, 19, 20, 21, 22, 23, 24, 25, 26, 27, 28, 29, 30, 31, 32,\n",
       "       33, 34, 35, 36, 37, 38, 39, 40, 41, 42, 43, 44, 45, 46, 47, 48, 49,\n",
       "       50, 51, 52, 53, 54, 55, 56, 57, 58, 59, 60, 61, 62, 63, 64, 65, 66,\n",
       "       67, 68, 69, 70, 71, 72, 73, 74, 75, 76, 77, 78, 79, 80, 81],\n",
       "      dtype=int32)"
      ]
     },
     "execution_count": 30,
     "metadata": {},
     "output_type": "execute_result"
    }
   ],
   "source": [
    "np.unique(data_dict['instance'].reshape([-1]).astype(np.int32))"
   ]
  },
  {
   "cell_type": "code",
   "execution_count": 36,
   "metadata": {},
   "outputs": [
    {
     "data": {
      "text/plain": [
       "'2013_05_28_drive_0000_sync'"
      ]
     },
     "execution_count": 36,
     "metadata": {},
     "output_type": "execute_result"
    }
   ],
   "source": [
    "os.path.basename(os.path.dirname(data_path))"
   ]
  },
  {
   "cell_type": "code",
   "execution_count": 2,
   "metadata": {},
   "outputs": [],
   "source": [
    "from helpers.labels import trainId2label"
   ]
  },
  {
   "cell_type": "code",
   "execution_count": 4,
   "metadata": {},
   "outputs": [
    {
     "data": {
      "text/plain": [
       "Label(name='fence', id=13, kittiId=8, trainId=4, category='construction', categoryId=2, hasInstances=False, ignoreInEval=False, ignoreInInst=False, color=(190, 153, 153))"
      ]
     },
     "execution_count": 4,
     "metadata": {},
     "output_type": "execute_result"
    }
   ],
   "source": [
    "trainId2label[4]"
   ]
  },
  {
   "cell_type": "code",
   "execution_count": 5,
   "metadata": {},
   "outputs": [
    {
     "data": {
      "text/plain": [
       "dict_keys([-1, 255, 5, 4, 2, 18, 17, 16, 15, 14, 13, 12, 11, 10, 9, 8, 7, 6, 3, 1, 0])"
      ]
     },
     "execution_count": 5,
     "metadata": {},
     "output_type": "execute_result"
    }
   ],
   "source": [
    "trainId2label.keys()"
   ]
  },
  {
   "cell_type": "code",
   "execution_count": 8,
   "metadata": {},
   "outputs": [
    {
     "data": {
      "text/plain": [
       "{-1: 'unlabeled',\n",
       " 5: 'pole',\n",
       " 4: 'fence',\n",
       " 2: 'building',\n",
       " 18: 'bicycle',\n",
       " 17: 'motorcycle',\n",
       " 16: 'train',\n",
       " 15: 'bus',\n",
       " 14: 'truck',\n",
       " 13: 'car',\n",
       " 12: 'rider',\n",
       " 11: 'person',\n",
       " 10: 'sky',\n",
       " 9: 'terrain',\n",
       " 8: 'vegetation',\n",
       " 7: 'traffic sign',\n",
       " 6: 'traffic light',\n",
       " 3: 'wall',\n",
       " 1: 'sidewalk',\n",
       " 0: 'road'}"
      ]
     },
     "execution_count": 8,
     "metadata": {},
     "output_type": "execute_result"
    }
   ],
   "source": [
    "{i:trainId2label[i].name for i in trainId2label.keys()}"
   ]
  }
 ],
 "metadata": {
  "kernelspec": {
   "display_name": "iseg3d",
   "language": "python",
   "name": "python3"
  },
  "language_info": {
   "codemirror_mode": {
    "name": "ipython",
    "version": 3
   },
   "file_extension": ".py",
   "mimetype": "text/x-python",
   "name": "python",
   "nbconvert_exporter": "python",
   "pygments_lexer": "ipython3",
   "version": "3.8.16"
  }
 },
 "nbformat": 4,
 "nbformat_minor": 2
}
