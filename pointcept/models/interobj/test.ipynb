{
 "cells": [
  {
   "cell_type": "code",
   "execution_count": 1,
   "metadata": {},
   "outputs": [],
   "source": [
    "import torch"
   ]
  },
  {
   "cell_type": "code",
   "execution_count": 3,
   "metadata": {},
   "outputs": [
    {
     "name": "stdout",
     "output_type": "stream",
     "text": [
      "tensor([1, 3]) torch.Size([3])\n",
      "tensor([1, 2]) torch.Size([3])\n"
     ]
    }
   ],
   "source": [
    "a = torch.tensor([[True, False, True], [True, True, False]])\n",
    "b = torch.tensor([1, 2, 3])\n",
    "for i in range(a.shape[0]):\n",
    "    print(b[a[i]], a[i].shape)"
   ]
  },
  {
   "cell_type": "code",
   "execution_count": 8,
   "metadata": {},
   "outputs": [
    {
     "data": {
      "text/plain": [
       "tensor([[1, 2, 7],\n",
       "        [3, 4, 8],\n",
       "        [5, 6, 9]])"
      ]
     },
     "execution_count": 8,
     "metadata": {},
     "output_type": "execute_result"
    }
   ],
   "source": [
    "c = torch.tensor([[1, 2], [3, 4], [5, 6]])\n",
    "d = torch.tensor([7, 8, 9])\n",
    "torch.cat((c, d.unsqueeze(1)), dim=1)"
   ]
  }
 ],
 "metadata": {
  "language_info": {
   "name": "python"
  }
 },
 "nbformat": 4,
 "nbformat_minor": 2
}
