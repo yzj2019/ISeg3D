{
 "cells": [
  {
   "cell_type": "code",
   "execution_count": 1,
   "metadata": {},
   "outputs": [
    {
     "name": "stdout",
     "output_type": "stream",
     "text": [
      "env: CUDA_VISIBLE_DEVICES=0\n"
     ]
    }
   ],
   "source": [
    "%env CUDA_VISIBLE_DEVICES=0\n",
    "%matplotlib inline\n",
    "import os\n",
    "os.environ[\"CUDA_VISIBLE_DEVICES\"]=\"0\"\n",
    "os.chdir('../..')"
   ]
  },
  {
   "cell_type": "code",
   "execution_count": 2,
   "metadata": {},
   "outputs": [
    {
     "name": "stderr",
     "output_type": "stream",
     "text": [
      "/data/ext_workspace/yuzijian2/.conda/envs/iseg3d_ptv3_2/lib/python3.8/site-packages/timm/models/layers/__init__.py:48: FutureWarning: Importing from timm.models.layers is deprecated, please import via timm.layers\n",
      "  warnings.warn(f\"Importing from {__name__} is deprecated, please import via timm.layers\", FutureWarning)\n"
     ]
    }
   ],
   "source": [
    "import torch\n",
    "from collections import OrderedDict\n",
    "from pointcept.engines.defaults import (\n",
    "    default_argument_parser,\n",
    "    default_config_parser,\n",
    "    default_setup,\n",
    ")\n",
    "from pointcept.datasets import build_dataset_iseg, collate_fn_iseg\n",
    "from pointcept.models import build_model\n",
    "import pointcept.utils.comm as comm"
   ]
  },
  {
   "cell_type": "markdown",
   "metadata": {},
   "source": [
    "cfg"
   ]
  },
  {
   "cell_type": "code",
   "execution_count": 3,
   "metadata": {},
   "outputs": [
    {
     "data": {
      "text/plain": [
       "Namespace(config_file='configs/scannet/iseg-agile3d-v1m1.py', dist_url='auto', machine_rank=0, num_gpus=1, num_machines=1, options={'save_path': 'exp/test/models_ckpt'})"
      ]
     },
     "execution_count": 3,
     "metadata": {},
     "output_type": "execute_result"
    }
   ],
   "source": [
    "args = default_argument_parser().parse_args('')\n",
    "args.config_file = 'configs/scannet/iseg-agile3d-v1m1.py'\n",
    "args.options = {'save_path': 'exp/test/models_ckpt'}\n",
    "args"
   ]
  },
  {
   "cell_type": "code",
   "execution_count": 4,
   "metadata": {},
   "outputs": [
    {
     "data": {
      "text/plain": [
       "Config (path: configs/scannet/iseg-agile3d-v1m1.py): {'weight': None, 'resume': False, 'evaluate': True, 'test_only': False, 'seed': 31129887, 'save_path': 'exp/test/models_ckpt', 'num_worker': 12, 'batch_size': 12, 'batch_size_val': None, 'batch_size_test': None, 'epoch': 200, 'eval_epoch': 100, 'clip_grad': None, 'sync_bn': False, 'enable_amp': True, 'amp_dtype': 'float16', 'empty_cache': False, 'empty_cache_per_epoch': False, 'find_unused_parameters': False, 'enable_wandb': True, 'wandb_project': 'AGILE3D', 'wandb_key': None, 'mix_prob': 0.0, 'param_dicts': None, 'semantic_ignore_label': -1, 'instance_ignore_label': -1, 'semantic_background_label': (0, 1), 'hooks': [{'type': 'CheckpointLoader'}, {'type': 'IterationTimer', 'warmup_iter': 2}, {'type': 'InformationWriter'}, {'type': 'ISegEvaluator', 'semantic_ignore': -1, 'instance_ignore': -1, 'semantic_background': (0, 1)}, {'type': 'CheckpointSaver', 'save_freq': 10}, {'type': 'PreciseEvaluator', 'test_last': False}], 'train': {'type': 'InsSegTrainer'}, 'test': {'type': 'InsSegTesterUser'}, 'num_classes': 20, 'class_names': ['wall', 'floor', 'cabinet', 'bed', 'chair', 'sofa', 'table', 'door', 'window', 'bookshelf', 'picture', 'counter', 'desk', 'curtain', 'refridgerator', 'shower curtain', 'toilet', 'sink', 'bathtub', 'otherfurniture'], 'semantic_ignore': -1, 'instance_ignore': -1, 'semantic_background': (0, 1), 'matcher_cfg': {'cost_class': 1.0, 'cost_focal': 2.0, 'cost_dice': 2.0, 'instance_ignore': -1}, 'model': {'type': 'Agile3d-v1m1', 'pcd_backbone': {'type': 'SpUNet-v1m1-fpn', 'in_channels': 6, 'num_classes': 0, 'channels': (32, 64, 128, 256, 256, 128, 96, 96), 'layers': (2, 3, 4, 6, 2, 2, 2, 2)}, 'mask_decoder': {'type': 'Agile3dMaskDecoder', 'transformer_block_cfg': {'type': 'Mask3dDecoderBlock', 'embedding_dim': 128, 'num_heads': 8, 'mlp_dim': 1024, 'activation': 'relu', 'attn_drop': 0.0, 'layer_drop': 0.0, 'norm_before': False}, 'num_classes': 20, 'attn_mask_types': ['float', 'bool', 'bool', 'bool', 'bool'], 'enable_final_block': True, 'num_decoders': 3, 'shared_decoder': True, 'mask_num': 1}, 'loss': {'type': 'InsSegLoss', 'cls_loss_cfg': [{'type': 'CrossEntropyLoss', 'loss_weight': 1.0, 'reduction': 'mean', 'ignore_index': -1}], 'mask_loss_cfg': [{'type': 'BinaryCrossEntropyLoss', 'reduction': 'mean', 'logits': True, 'loss_weight': 2.0}, {'type': 'BinaryDiceLoss', 'exponent': 1, 'reduction': 'mean', 'logits': True, 'loss_weight': 2.0}]}, 'fused_backbone': False, 'on_segment': False, 'matcher_cfg': {'cost_class': 1.0, 'cost_focal': 2.0, 'cost_dice': 2.0, 'instance_ignore': -1}, 'aux': True, 'features_dims': (256, 256, 128, 96, 96), 'num_query': 100, 'query_type': 'sample', 'mask_threshold': 0.5, 'topk_per_scene': 200, 'semantic_ignore': -1, 'instance_ignore': -1, 'semantic_background': (0, 1)}, 'optimizer': {'type': 'AdamW', 'lr': 0.001, 'weight_decay': 0.0001}, 'scheduler': {'type': 'OneCycleLR', 'max_lr': 0.001, 'pct_start': 0.5, 'anneal_strategy': 'cos', 'div_factor': 10.0, 'final_div_factor': 1.0}, 'dataset_type': 'ScanNetDataset', 'data_root': 'data/scannet', 'data': {'num_classes': 20, 'ignore_index': -1, 'names': ['wall', 'floor', 'cabinet', 'bed', 'chair', 'sofa', 'table', 'door', 'window', 'bookshelf', 'picture', 'counter', 'desk', 'curtain', 'refridgerator', 'shower curtain', 'toilet', 'sink', 'bathtub', 'otherfurniture'], 'ext_valid_assets': ['sampled_idx_fps_100'], 'train': {'type': 'ScanNetDataset', 'split': 'train', 'data_root': 'data/scannet', 'transform': [{'type': 'Copy', 'keys_dict': {'sampled_idx_fps_100': 'sampled_index'}}, {'type': 'CenterShift', 'apply_z': True}, {'type': 'RandomDropout', 'dropout_ratio': 0.2, 'dropout_application_ratio': 0.2}, {'type': 'RandomRotate', 'angle': [-1, 1], 'axis': 'z', 'center': [0, 0, 0], 'p': 0.5}, {'type': 'RandomRotate', 'angle': [-0.015625, 0.015625], 'axis': 'x', 'p': 0.5}, {'type': 'RandomRotate', 'angle': [-0.015625, 0.015625], 'axis': 'y', 'p': 0.5}, {'type': 'RandomScale', 'scale': [0.9, 1.1]}, {'type': 'RandomFlip', 'p': 0.5}, {'type': 'RandomJitter', 'sigma': 0.005, 'clip': 0.02}, {'type': 'ElasticDistortion', 'distortion_params': [[0.2, 0.4], [0.8, 1.6]]}, {'type': 'ChromaticAutoContrast', 'p': 0.2, 'blend_factor': None}, {'type': 'ChromaticTranslation', 'p': 0.95, 'ratio': 0.05}, {'type': 'ChromaticJitter', 'p': 0.95, 'std': 0.05}, {'type': 'GridSample', 'grid_size': 0.02, 'hash_type': 'fnv', 'mode': 'train', 'return_grid_coord': True}, {'type': 'SampledIndex2Mask'}, {'type': 'SphereCrop', 'point_max': 102400, 'mode': 'random'}, {'type': 'CenterShift', 'apply_z': False}, {'type': 'NormalizeColor'}, {'type': 'InstanceParser', 'segment_ignore_index': (-1, 0, 1), 'instance_ignore_index': -1}, {'type': 'ToTensor'}, {'type': 'Collect', 'keys': ('coord', 'grid_coord', 'segment', 'instance', 'sampled_mask'), 'feat_keys': ('color', 'normal')}], 'test_mode': False, 'loop': 2}, 'val': {'type': 'ScanNetDataset', 'split': 'val', 'data_root': 'data/scannet', 'transform': [{'type': 'Copy', 'keys_dict': {'sampled_idx_fps_100': 'sampled_index'}}, {'type': 'CenterShift', 'apply_z': True}, {'type': 'GridSample', 'grid_size': 0.02, 'hash_type': 'fnv', 'mode': 'train', 'return_grid_coord': True}, {'type': 'SampledIndex2Mask'}, {'type': 'CenterShift', 'apply_z': False}, {'type': 'NormalizeColor'}, {'type': 'InstanceParser', 'segment_ignore_index': (-1, 0, 1), 'instance_ignore_index': -1}, {'type': 'ToTensor'}, {'type': 'Collect', 'keys': ('coord', 'grid_coord', 'segment', 'instance', 'sampled_mask'), 'feat_keys': ('color', 'normal')}], 'test_mode': False}, 'test': {'type': 'ScanNetDataset', 'split': 'val', 'data_root': 'data/scannet', 'transform': [{'type': 'Copy', 'keys_dict': {'sampled_idx_fps_100': 'sampled_index'}}, {'type': 'CenterShift', 'apply_z': True}, {'type': 'NormalizeColor'}], 'test_mode': True, 'test_cfg': {'voxelize': {'type': 'GridSample', 'grid_size': 0.02, 'hash_type': 'fnv', 'mode': 'train', 'return_grid_coord': True, 'return_inverse': True}, 'crop': None, 'post_transform': [{'type': 'SampledIndex2Mask'}, {'type': 'CenterShift', 'apply_z': False}, {'type': 'InstanceParser', 'segment_ignore_index': (-1, 0, 1), 'instance_ignore_index': -1}, {'type': 'ToTensor'}, {'type': 'Collect', 'keys': ('coord', 'grid_coord', 'inverse', 'segment', 'instance', 'sampled_mask'), 'feat_keys': ('color', 'normal')}], 'aug_transform': [[{'type': 'RandomFlip', 'p': 1}]]}}}, 'num_worker_per_gpu': 12, 'batch_size_per_gpu': 12, 'batch_size_val_per_gpu': 1, 'batch_size_test_per_gpu': 1}"
      ]
     },
     "execution_count": 4,
     "metadata": {},
     "output_type": "execute_result"
    }
   ],
   "source": [
    "cfg = default_config_parser(args.config_file, args.options)\n",
    "cfg = default_setup(cfg)\n",
    "cfg"
   ]
  },
  {
   "cell_type": "markdown",
   "metadata": {},
   "source": [
    "model"
   ]
  },
  {
   "cell_type": "code",
   "execution_count": 6,
   "metadata": {},
   "outputs": [],
   "source": [
    "cfg.weight = 'exp/scannet/iseg-agile3d-v1m1-3/model/epoch_50.pth'\n",
    "model = build_model(cfg.model)\n",
    "checkpoint = torch.load(\n",
    "                cfg.weight,\n",
    "                map_location=lambda storage, loc: storage.cuda(),\n",
    "                weights_only=False,\n",
    "            )\n",
    "weight = OrderedDict()\n",
    "for key, value in checkpoint[\"state_dict\"].items():\n",
    "    if not key.startswith(\"module.\"):\n",
    "        key = \"module.\" + key  # xxx.xxx -> module.xxx.xxx\n",
    "    if comm.get_world_size() == 1:\n",
    "        key = key[7:]  # module.xxx.xxx -> xxx.xxx\n",
    "    weight[key] = value\n",
    "load_state_info = model.load_state_dict(\n",
    "    weight, strict=True\n",
    ")"
   ]
  }
 ],
 "metadata": {
  "language_info": {
   "name": "python"
  }
 },
 "nbformat": 4,
 "nbformat_minor": 2
}
