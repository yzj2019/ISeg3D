{
 "cells": [
  {
   "cell_type": "code",
   "execution_count": 1,
   "metadata": {},
   "outputs": [
    {
     "name": "stdout",
     "output_type": "stream",
     "text": [
      "env: CUDA_VISIBLE_DEVICES=0\n"
     ]
    }
   ],
   "source": [
    "%env CUDA_VISIBLE_DEVICES=0\n",
    "%matplotlib inline\n",
    "import os\n",
    "os.environ[\"CUDA_VISIBLE_DEVICES\"]=\"0\"\n",
    "os.chdir('../../')"
   ]
  },
  {
   "cell_type": "code",
   "execution_count": 2,
   "metadata": {},
   "outputs": [],
   "source": [
    "import torch\n",
    "import numpy as np\n",
    "from functools import partial\n",
    "from pointcept.engines.defaults import (\n",
    "    default_argument_parser,\n",
    "    default_config_parser,\n",
    "    default_setup,\n",
    ")\n",
    "from pointcept.datasets import build_dataset_iseg, collate_fn_iseg"
   ]
  },
  {
   "cell_type": "code",
   "execution_count": 3,
   "metadata": {},
   "outputs": [
    {
     "name": "stderr",
     "output_type": "stream",
     "text": [
      "[2025-06-08 09:41:39,349 INFO defaults.py line 70 934524] Totally 312 x 1 samples in scannet val set.\n"
     ]
    },
    {
     "name": "stdout",
     "output_type": "stream",
     "text": [
      "dict_keys(['coord', 'grid_coord', 'inverse', 'segment', 'instance', 'sampled_mask', 'offset', 'feat'])\n"
     ]
    }
   ],
   "source": [
    "args = default_argument_parser().parse_args('')\n",
    "args.config_file = 'configs/scannet/iseg-agile3d-v1m1.py'\n",
    "args.options = {'save_path': 'exp/test/datasets_dataloader'}        # exp下只能两层，不然报错\n",
    "cfg = default_config_parser(args.config_file, args.options)\n",
    "cfg = default_setup(cfg)\n",
    "\n",
    "val_dataset = build_dataset_iseg(cfg.data.val, ext_valid_assets=cfg.data.ext_valid_assets)\n",
    "def base_collate_fn(batch):\n",
    "    return batch\n",
    "val_loader = torch.utils.data.DataLoader(\n",
    "            val_dataset,\n",
    "            batch_size=1,\n",
    "            shuffle=False,\n",
    "            num_workers=1,\n",
    "            pin_memory=True,\n",
    "            sampler=None,\n",
    "            collate_fn=base_collate_fn,\n",
    "        )\n",
    "data_iterator = enumerate(val_dataset)\n",
    "for idx, data_dict in data_iterator:\n",
    "    break\n",
    "print(data_dict.keys())"
   ]
  },
  {
   "cell_type": "code",
   "execution_count": 4,
   "metadata": {},
   "outputs": [
    {
     "name": "stdout",
     "output_type": "stream",
     "text": [
      "Jupyter environment detected. Enabling Open3D WebVisualizer.\n",
      "[Open3D INFO] WebRTC GUI backend enabled.\n",
      "[Open3D INFO] WebRTCWindowSystem: HTTP handshake server disabled.\n",
      "\n",
      "************************************************************************\n",
      "1) Start local server:\n",
      "    cd /data/shared_workspace/yuzijian/ws/ISeg3D/exp/vis/scannet; python -m http.server 6008\n",
      "2) Open in browser:\n",
      "    http://localhost:6008\n",
      "************************************************************************\n"
     ]
    }
   ],
   "source": [
    "import pyviz3d.visualizer as viz\n",
    "import seaborn as sns\n",
    "cmap = sns.color_palette(\"icefire\", as_cmap=True)\n",
    "\n",
    "data_dict = val_dataset[0]\n",
    "v = viz.Visualizer(position=[5, 5, 1])\n",
    "coord = data_dict[\"coord\"].cpu().numpy()\n",
    "instance = data_dict[\"instance\"].cpu().numpy()\n",
    "color = cmap((instance+1) / (instance.max()+1))[:, :3]*255\n",
    "v.add_points(\n",
    "        'ins', coord, color, None, visible=False\n",
    "    )\n",
    "mask = data_dict[\"sampled_mask\"]\n",
    "color = np.ones_like(color) * np.array([0, 255, 0])\n",
    "color[mask] = np.array([255, 0, 0])\n",
    "v.add_points(\n",
    "        'sampled', coord, color, None, visible=False\n",
    "    )\n",
    "v.save('./exp/vis/scannet')"
   ]
  },
  {
   "cell_type": "code",
   "execution_count": 65,
   "metadata": {},
   "outputs": [
    {
     "name": "stdout",
     "output_type": "stream",
     "text": [
      "\n",
      "************************************************************************\n",
      "1) Start local server:\n",
      "    cd /data/shared_workspace/yuzijian/ws/ISeg3D/exp/vis/scannet; python -m http.server 6008\n",
      "2) Open in browser:\n",
      "    http://localhost:6008\n",
      "************************************************************************\n"
     ]
    }
   ],
   "source": [
    "data_dict = val_dataset.get_data(0)\n",
    "v = viz.Visualizer(position=[5, 5, 1])\n",
    "coord = data_dict[\"coord\"]\n",
    "instance = data_dict[\"instance\"]\n",
    "segment = data_dict[\"segment\"]\n",
    "color = cmap((instance+1) / (instance.max()+1))[:, :3]*255\n",
    "v.add_points(\n",
    "        'ins', coord, color, None, visible=False\n",
    "    )\n",
    "mask = ~np.in1d(segment, (-1,))\n",
    "color = np.ones_like(color) * np.array([0, 255, 0])\n",
    "color[mask] = np.array([255, 0, 0])\n",
    "v.add_points(\n",
    "        'sem_ign', coord, color, None, visible=False\n",
    "    )\n",
    "mask = ~np.in1d(segment, (0, 1))\n",
    "color = np.ones_like(color) * np.array([0, 255, 0])\n",
    "color[mask] = np.array([255, 0, 0])\n",
    "v.add_points(\n",
    "        'sem_bg', coord, color, None, visible=False\n",
    "    )\n",
    "mask = ~np.in1d(instance, (-1,))\n",
    "color = np.ones_like(color) * np.array([0, 255, 0])\n",
    "color[mask] = np.array([255, 0, 0])\n",
    "v.add_points(\n",
    "        'ins_ign', coord, color, None, visible=False\n",
    "    )\n",
    "v.save('./exp/vis/scannet')"
   ]
  },
  {
   "cell_type": "code",
   "execution_count": 62,
   "metadata": {},
   "outputs": [
    {
     "data": {
      "image/png": "[encoded data removed]",
      "text/html": [
       "<div style=\"vertical-align: middle;\"><strong>icefire</strong> </div><div class=\"cmap\"><img alt=\"icefire colormap\" title=\"icefire\" style=\"border: 1px solid #555;\" src=\"data:image/png;base64,iVBORw0KGgoAAAANSUhEUgAAAgAAAABACAYAAABsv8+/AAAAFnRFWHRUaXRsZQBpY2VmaXJlIGNvbG9ybWFwvkjy7gAAABx0RVh0RGVzY3JpcHRpb24AaWNlZmlyZSBjb2xvcm1hcBlmQ5cAAAAwdEVYdEF1dGhvcgBNYXRwbG90bGliIHYzLjcuMywgaHR0cHM6Ly9tYXRwbG90bGliLm9yZ7rJ3hAAAAAydEVYdFNvZnR3YXJlAE1hdHBsb3RsaWIgdjMuNy4zLCBodHRwczovL21hdHBsb3RsaWIub3JnlG9BNwAAAm1JREFUeJzt1sFx2zAQBVCAVP8VpZIUkCpMIgeDdAAJke7/vct6FwuYMx7P/Prrz+9WSinH2UoppZxnKf/27+bHar/N8w/7Np+v9lbvzecf1r5/TvNP+3WtH+21vtfufqpH7RdKr98fXI8yzOs0367+np/TvPd9fvX1PMb+OF6el3uv9+1rmJfza5p/19b7Np3/zI+xn/Z/5vPeMeydq/Nez/P4/zv9D3C2eW+u5/ju3Z8v98rT+VTLtFfadK/3ZT6/5mNtZZ5/q1dtU/+mbv2nu6/15fl23at1nNfx/Hk+9vvifP9wf1/N+xfM7+2L95/O73l5PX+6N+8t+qf9N/X+/W3ot/6H/dlrQ73Pr/3t9fk9317Pt61Mfa/763m95+W/87q3qa/DXr3u3/NV7Yu91v7gNa97f7DXVX/Pt3nvMe09+t5jsfeY3nmM56v5u3v39037i++6/v8AgCACAAAEEgAAIJAAAACBBAAACCQAAEAgAQAAAgkAABBIAACAQAIAAAQSAAAgkAAAAIEEAAAIJAAAQCABAAACCQAAEEgAAIBAAgAABBIAACCQAAAAgQQAAAgkAABAIAEAAAIJAAAQSAAAgEACAAAEEgAAIJAAAACBBAAACCQAAEAgAQAAAgkAABBIAACAQAIAAAQSAAAgkAAAAIEEAAAIJAAAQCABAAACCQAAEEgAAIBAAgAABBIAACCQAAAAgQQAAAgkAABAIAEAAAIJAAAQSAAAgEACAAAEEgAAIJAAAACBBAAACCQAAEAgAQAAAgkAABBIAACAQAIAAAQSAAAgkAAAAIEEAAAIJAAAQCABAAAC/QWSkzsLHuawCwAAAABJRU5ErkJggg==\"></div><div style=\"vertical-align: middle; max-width: 514px; display: flex; justify-content: space-between;\"><div style=\"float: left;\"><div title=\"#bde7dbff\" style=\"display: inline-block; width: 1em; height: 1em; margin: 0; vertical-align: middle; border: 1px solid #555; background-color: #bde7dbff;\"></div> under</div><div style=\"margin: 0 auto; display: inline-block;\">bad <div title=\"#00000000\" style=\"display: inline-block; width: 1em; height: 1em; margin: 0; vertical-align: middle; border: 1px solid #555; background-color: #00000000;\"></div></div><div style=\"float: right;\">over <div title=\"#ffd4acff\" style=\"display: inline-block; width: 1em; height: 1em; margin: 0; vertical-align: middle; border: 1px solid #555; background-color: #ffd4acff;\"></div></div>"
      ],
      "text/plain": [
       "<matplotlib.colors.ListedColormap at 0x7f9dd05f8b20>"
      ]
     },
     "execution_count": 62,
     "metadata": {},
     "output_type": "execute_result"
    }
   ],
   "source": [
    "sns.color_palette(\"icefire\", as_cmap=True)"
   ]
  }
 ],
 "metadata": {
  "kernelspec": {
   "display_name": "iseg3d_ptv3",
   "language": "python",
   "name": "python3"
  },
  "language_info": {
   "codemirror_mode": {
    "name": "ipython",
    "version": 3
   },
   "file_extension": ".py",
   "mimetype": "text/x-python",
   "name": "python",
   "nbconvert_exporter": "python",
   "pygments_lexer": "ipython3",
   "version": "3.8.16"
  }
 },
 "nbformat": 4,
 "nbformat_minor": 2
}
